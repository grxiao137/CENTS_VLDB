{
 "cells": [
  {
   "cell_type": "markdown",
   "metadata": {},
   "source": [
    "# Exploration of SOTAB dataset"
   ]
  },
  {
   "cell_type": "code",
   "execution_count": 1,
   "metadata": {},
   "outputs": [],
   "source": [
    "import os\n",
    "import random\n",
    "import tiktoken\n",
    "import pandas as pd"
   ]
  },
  {
   "cell_type": "code",
   "execution_count": 2,
   "metadata": {},
   "outputs": [],
   "source": [
    "gpt4_enc = tiktoken.encoding_for_model(\"gpt-4\")\n",
    "gpt3_enc = tiktoken.encoding_for_model(\"gpt-3.5-turbo\")"
   ]
  },
  {
   "cell_type": "code",
   "execution_count": 3,
   "metadata": {},
   "outputs": [],
   "source": [
    "def read_all(directory):\n",
    "    dfs = []\n",
    "\n",
    "    for filename in os.listdir(directory):\n",
    "        if filename.endswith('.json.gz'):\n",
    "            file_path = os.path.join(directory, filename)\n",
    "            df = pd.read_json(file_path, compression='gzip', lines=True)\n",
    "            dfs.append(df)\n",
    "    \n",
    "    return dfs\n",
    "\n",
    "def read_one(directory, name):\n",
    "    for filename in os.listdir(directory):\n",
    "        if name in filename:\n",
    "            file_path = os.path.join(directory, filename)\n",
    "            df = pd.read_json(file_path, compression='gzip', lines=True)\n",
    "            return df\n",
    "    return None\n",
    "\n",
    "def average_rows_columns(list_data):\n",
    "    total_rows = 0\n",
    "    total_columns = 0\n",
    "    total_tokens = 0\n",
    "\n",
    "    min_tokens, max_tokens = float('inf'), 0\n",
    "    num_dataframes = len(list_data)\n",
    "\n",
    "    if num_dataframes == 0:\n",
    "        return 0, 0, 0, 0, 0\n",
    "\n",
    "    for dataframe in list_data:\n",
    "        total_rows += dataframe.shape[0]\n",
    "        total_columns += dataframe.shape[1]\n",
    "        dataframe_json = dataframe.to_json(orient='records', lines=True)\n",
    "        this_tokens = len(gpt4_enc.encode(dataframe_json))\n",
    "        total_tokens += this_tokens\n",
    "        min_tokens = min(min_tokens, this_tokens)\n",
    "        max_tokens = max(max_tokens, this_tokens)\n",
    "\n",
    "    avg_rows = total_rows / num_dataframes\n",
    "    avg_columns = total_columns / num_dataframes\n",
    "    avg_tokens = total_tokens / num_dataframes\n",
    "\n",
    "    return avg_rows, avg_columns, avg_tokens, min_tokens, max_tokens"
   ]
  },
  {
   "cell_type": "code",
   "execution_count": 4,
   "metadata": {},
   "outputs": [],
   "source": [
    "random.seed(42)\n",
    "RE_TEST_PATH = \"./CPA_Test/Test\"\n",
    "RE_TS_DATA = \"./CPA_Test/CPA_test_gt.csv\""
   ]
  },
  {
   "cell_type": "code",
   "execution_count": 5,
   "metadata": {},
   "outputs": [
    {
     "name": "stdout",
     "output_type": "stream",
     "text": [
      "RE, SOTAB: Number of tables in SOTAB test 6480\n"
     ]
    }
   ],
   "source": [
    "sotab_test = read_all(RE_TEST_PATH)\n",
    "print(f'RE, SOTAB: Number of tables in SOTAB test {len(sotab_test)}')"
   ]
  },
  {
   "cell_type": "code",
   "execution_count": 6,
   "metadata": {},
   "outputs": [
    {
     "name": "stdout",
     "output_type": "stream",
     "text": [
      "RE, SOTAB: Average Rows: 249.12438271604938, Average Columns: 9.322685185185184, Average Cokens: 46360.17083333333, Min Tokens: 205, Max Tokens: 14382326\n"
     ]
    }
   ],
   "source": [
    "avg_rows, avg_columns, avg_tokens, min_tokens, max_tokens = average_rows_columns(sotab_test)\n",
    "print(f\"RE, SOTAB: Average Rows: {avg_rows}, Average Columns: {avg_columns}, Average Cokens: {avg_tokens}, Min Tokens: {min_tokens}, Max Tokens: {max_tokens}\")"
   ]
  },
  {
   "cell_type": "code",
   "execution_count": 7,
   "metadata": {},
   "outputs": [],
   "source": [
    "random.seed(42)\n",
    "CTA_TEST_PATH = \"./CTA_Test/Test\"\n",
    "CTA_TS_DATA = \"./CTA_Test/CTA_test_gt.csv\""
   ]
  },
  {
   "cell_type": "code",
   "execution_count": 8,
   "metadata": {},
   "outputs": [
    {
     "name": "stdout",
     "output_type": "stream",
     "text": [
      "CTA, SOTAB: Number of tables in SOTAB test 7026\n"
     ]
    }
   ],
   "source": [
    "sotab_test = read_all(CTA_TEST_PATH)\n",
    "print(f'CTA, SOTAB: Number of tables in SOTAB test {len(sotab_test)}')"
   ]
  },
  {
   "cell_type": "code",
   "execution_count": 9,
   "metadata": {},
   "outputs": [
    {
     "name": "stdout",
     "output_type": "stream",
     "text": [
      "CTA, SOTAB: Average Rows: 199.76757756902933, Average Columns: 8.37688585254768, Average Cokens: 40862.961144321096, Min Tokens: 156, Max Tokens: 12732297\n"
     ]
    }
   ],
   "source": [
    "avg_rows, avg_columns, avg_tokens, min_tokens, max_tokens = average_rows_columns(sotab_test)\n",
    "print(f\"CTA, SOTAB: Average Rows: {avg_rows}, Average Columns: {avg_columns}, Average Cokens: {avg_tokens}, Min Tokens: {min_tokens}, Max Tokens: {max_tokens}\")"
   ]
  }
 ],
 "metadata": {
  "kernelspec": {
   "display_name": "venv",
   "language": "python",
   "name": "python3"
  },
  "language_info": {
   "codemirror_mode": {
    "name": "ipython",
    "version": 3
   },
   "file_extension": ".py",
   "mimetype": "text/x-python",
   "name": "python",
   "nbconvert_exporter": "python",
   "pygments_lexer": "ipython3",
   "version": "3.11.8"
  }
 },
 "nbformat": 4,
 "nbformat_minor": 2
}
